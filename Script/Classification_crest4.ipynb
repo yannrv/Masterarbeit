{
 "cells": [
  {
   "cell_type": "code",
   "execution_count": null,
   "id": "11388001-ec11-4827-80bb-5f09d8a8d75a",
   "metadata": {},
   "outputs": [],
   "source": [
    "# Import #\n",
    "from crest4 import Classify\n",
    "# Create a new instance #\n",
    "get_tax = Classify('/Path/to/fasta_file/.fasta', num_threads=16)\n",
    "# Run the similarity search and classification #\n",
    "get_tax()\n",
    "# Print the results #\n",
    "for name, query in get_tax.queries_by_id.items():\n",
    "    print(name, query.taxonomy)"
   ]
  }
 ],
 "metadata": {
  "kernelspec": {
   "display_name": "Python 3 (ipykernel)",
   "language": "python",
   "name": "python3"
  },
  "language_info": {
   "codemirror_mode": {
    "name": "ipython",
    "version": 3
   },
   "file_extension": ".py",
   "mimetype": "text/x-python",
   "name": "python",
   "nbconvert_exporter": "python",
   "pygments_lexer": "ipython3",
   "version": "3.10.8"
  }
 },
 "nbformat": 4,
 "nbformat_minor": 5
}
